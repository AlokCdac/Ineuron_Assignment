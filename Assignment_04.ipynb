{
 "cells": [
  {
   "cell_type": "markdown",
   "id": "4fb8dc76",
   "metadata": {},
   "source": [
    "1. What exactly is []?\n",
    "\n",
    "Ans:- its a blank list which is having no elements."
   ]
  },
  {
   "cell_type": "markdown",
   "id": "9a721519",
   "metadata": {},
   "source": [
    "2. In a list of values stored in a variable called spam, how would you assign the value 'hello' as the third value? (Assume [2, 4, 6, 8, 10] are in spam.)\n",
    "\n",
    "spam.insert(3,'hello')"
   ]
  },
  {
   "cell_type": "code",
   "execution_count": 3,
   "id": "f883e7d5",
   "metadata": {},
   "outputs": [
    {
     "data": {
      "text/plain": [
       "[2, 4, 6, 'hello', 8, 10]"
      ]
     },
     "execution_count": 3,
     "metadata": {},
     "output_type": "execute_result"
    }
   ],
   "source": [
    "spam=[2,4,6,8,10]\n",
    "spam.insert(3,'hello')\n",
    "spam"
   ]
  },
  {
   "cell_type": "markdown",
   "id": "af9108bc",
   "metadata": {},
   "source": [
    "# Let's pretend the spam includes the list ['a', 'b', 'c', 'd'] for the next three queries."
   ]
  },
  {
   "cell_type": "markdown",
   "id": "6f5db0c6",
   "metadata": {},
   "source": [
    "3. What is the value of spam[int(int('3' * 2) / 11)]?\n",
    "\n",
    "Ans:- 'd'"
   ]
  },
  {
   "cell_type": "code",
   "execution_count": 4,
   "id": "aa3cd867",
   "metadata": {},
   "outputs": [
    {
     "data": {
      "text/plain": [
       "'d'"
      ]
     },
     "execution_count": 4,
     "metadata": {},
     "output_type": "execute_result"
    }
   ],
   "source": [
    "spam=['a', 'b', 'c', 'd'] \n",
    "spam[int(int('3' * 2) / 11)]"
   ]
  },
  {
   "cell_type": "markdown",
   "id": "aff14e5a",
   "metadata": {},
   "source": [
    "4. What is the value of spam[-1]?\n",
    "\n",
    "Ans:- 'd'"
   ]
  },
  {
   "cell_type": "code",
   "execution_count": 5,
   "id": "58df910a",
   "metadata": {},
   "outputs": [
    {
     "data": {
      "text/plain": [
       "'d'"
      ]
     },
     "execution_count": 5,
     "metadata": {},
     "output_type": "execute_result"
    }
   ],
   "source": [
    "spam[-1]"
   ]
  },
  {
   "cell_type": "markdown",
   "id": "a0984f71",
   "metadata": {},
   "source": [
    "5. What is the value of spam[:2]?\n",
    "\n",
    "Ans:- ['a', 'b']"
   ]
  },
  {
   "cell_type": "code",
   "execution_count": 6,
   "id": "a6378e43",
   "metadata": {},
   "outputs": [
    {
     "data": {
      "text/plain": [
       "['a', 'b']"
      ]
     },
     "execution_count": 6,
     "metadata": {},
     "output_type": "execute_result"
    }
   ],
   "source": [
    "spam[:2]"
   ]
  },
  {
   "cell_type": "markdown",
   "id": "105a406d",
   "metadata": {},
   "source": [
    "# Let's pretend bacon has the list [3.14, 'cat' ,11, 'cat', True] for the next three questions."
   ]
  },
  {
   "cell_type": "markdown",
   "id": "e727a9cd",
   "metadata": {},
   "source": [
    "6. What is the value of bacon.index('cat')?\n",
    "\n",
    "Ans:- 1"
   ]
  },
  {
   "cell_type": "code",
   "execution_count": 18,
   "id": "c86e761d",
   "metadata": {},
   "outputs": [
    {
     "data": {
      "text/plain": [
       "1"
      ]
     },
     "execution_count": 18,
     "metadata": {},
     "output_type": "execute_result"
    }
   ],
   "source": [
    "bacon=[3.14, 'cat' ,11, 'cat', True]\n",
    "\n",
    "bacon.index('cat')"
   ]
  },
  {
   "cell_type": "markdown",
   "id": "e63f46a4",
   "metadata": {},
   "source": [
    "7. How does bacon.append(99) change the look of the list value in bacon?\n",
    "\n",
    "Ans:- [3.14, 'cat', 11, 'cat', True, 99]"
   ]
  },
  {
   "cell_type": "code",
   "execution_count": 19,
   "id": "205bc415",
   "metadata": {},
   "outputs": [
    {
     "data": {
      "text/plain": [
       "[3.14, 'cat', 11, 'cat', True, 99]"
      ]
     },
     "execution_count": 19,
     "metadata": {},
     "output_type": "execute_result"
    }
   ],
   "source": [
    "bacon.append(99)\n",
    "bacon"
   ]
  },
  {
   "cell_type": "markdown",
   "id": "650e058f",
   "metadata": {},
   "source": [
    "8. How does bacon.remove('cat') change the look of the list in bacon?\n",
    "\n",
    "Ans:- [3.14, 11, 'cat', True, 99]"
   ]
  },
  {
   "cell_type": "code",
   "execution_count": 20,
   "id": "dce41512",
   "metadata": {},
   "outputs": [
    {
     "data": {
      "text/plain": [
       "[3.14, 11, 'cat', True, 99]"
      ]
     },
     "execution_count": 20,
     "metadata": {},
     "output_type": "execute_result"
    }
   ],
   "source": [
    "bacon.remove('cat')\n",
    "bacon"
   ]
  },
  {
   "cell_type": "markdown",
   "id": "d24f9b0f",
   "metadata": {},
   "source": [
    "9. What are the list concatenation and list replication operators?\n",
    "\n",
    "Ans:- In list concatenation we simply append one  list to another list and + operator is used for that.\n",
    "        While list replication all the elements of a list is replicated and appended in last of the lost and we use * operator for that."
   ]
  },
  {
   "cell_type": "markdown",
   "id": "264ece1d",
   "metadata": {},
   "source": [
    "10. What is difference between the list methods append() and insert()?\n",
    "\n",
    "Ans:- In append operation it always insert element in last and in insert operation if we are providing index value then element will added to particular index otherwise in last"
   ]
  },
  {
   "cell_type": "markdown",
   "id": "37f91b75",
   "metadata": {},
   "source": [
    "11. What are the two methods for removing items from a list?\n",
    "\n",
    "Ans:- Two method of removing elements from a list is POP() and Remove()\n",
    "     In pop operation it will remove the particular index value otherwise dafult index is already set index=-1\n",
    "     In remove operation it will always remove first occurrence of element."
   ]
  },
  {
   "cell_type": "markdown",
   "id": "54ac386d",
   "metadata": {},
   "source": [
    "12. Describe how list values and string values are identical.\n",
    "\n",
    "Ans:-  Lists are similar to strings, which are ordered collections of characters, except that the elements of a list can have any type and for any one list, the items can be of different types. ... As we said above, the elements of a list don't have to be the same type and thats why lists and strings are identical."
   ]
  },
  {
   "cell_type": "markdown",
   "id": "b29abf71",
   "metadata": {},
   "source": [
    "13. What's the difference between tuples and lists?\n",
    "\n",
    "Ans:- The key difference between tuple and lists that list objects are mutable and they can modified where tuples are immutable and can not be modified\n",
    "\n",
    "Tuples are faster than lists in execution beacuse they are memory efficient ."
   ]
  },
  {
   "cell_type": "markdown",
   "id": "8a16f9f9",
   "metadata": {},
   "source": [
    "14. How do you type a tuple value that only contains the integer 42?\n",
    "\n",
    "Ans:-(42,)"
   ]
  },
  {
   "cell_type": "markdown",
   "id": "d60eccfe",
   "metadata": {},
   "source": [
    "15. How do you get a list value's tuple form? How do you get a tuple value's list form?\n",
    "\n",
    "Ans:- by typecasting we can get list values in tuple form ad vice versa.\n",
    "\n",
    "    for lit=[1,2,3]\n",
    "        tuple(lit)\n",
    "        it will convert list to tuple .\n",
    "        \n",
    "        tple=(1, 2, 3)\n",
    "        list(tple)\n",
    "        \n",
    "        it will convert tuple into list ."
   ]
  },
  {
   "cell_type": "markdown",
   "id": "b0d10458",
   "metadata": {},
   "source": [
    "16. Variables that \"contain\" list values are not necessarily lists themselves. Instead, what do they contain?\n",
    "\n",
    "Ans:- variables if contains a list then they will necessarily lists themselves.\n",
    "\n"
   ]
  },
  {
   "cell_type": "markdown",
   "id": "c12af6b6",
   "metadata": {},
   "source": [
    "\n",
    "17. How do you distinguish between copy.copy() and copy.deepcopy()?\n",
    "\n",
    "Ans:- copy() method creates a copy of an existing list. The copy() method is added to the end of a list object and so it does not accept any parameters. copy() returns a new list.\n",
    "so if we are changing in new list then it will not effect in previous one.\n",
    "\n",
    "where deep copy constructs a new compound object and then, recursively, inserts copies into it of the objects found in the original. when we make changes in new copied item then it will make changes in previous one."
   ]
  },
  {
   "cell_type": "code",
   "execution_count": null,
   "id": "51200c33",
   "metadata": {},
   "outputs": [],
   "source": []
  }
 ],
 "metadata": {
  "kernelspec": {
   "display_name": "Python 3 (ipykernel)",
   "language": "python",
   "name": "python3"
  },
  "language_info": {
   "codemirror_mode": {
    "name": "ipython",
    "version": 3
   },
   "file_extension": ".py",
   "mimetype": "text/x-python",
   "name": "python",
   "nbconvert_exporter": "python",
   "pygments_lexer": "ipython3",
   "version": "3.8.8"
  }
 },
 "nbformat": 4,
 "nbformat_minor": 5
}
