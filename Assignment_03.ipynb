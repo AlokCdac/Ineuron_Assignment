{
 "cells": [
  {
   "cell_type": "raw",
   "id": "c2f48f4c",
   "metadata": {},
   "source": [
    "1. Why are functions advantageous to have in your programs?\n",
    "\n",
    "Ans:- Functions are basically used for code reusability, enhance the program readability, easy to find errors, easy to understand the structure of code , help to identifying thr block of codes."
   ]
  },
  {
   "cell_type": "raw",
   "id": "0c75d2b3",
   "metadata": {},
   "source": [
    "2. When does the code in a function run: when it's specified or when it's called?\n",
    "\n",
    "Ans:- when it's called.\n",
    "       A function called then its codes run ."
   ]
  },
  {
   "cell_type": "raw",
   "id": "839b55b5",
   "metadata": {},
   "source": [
    "3. What statement creates a function?\n",
    "\n",
    "Ans:- def keyword mainly used for defining the Function .\n",
    "      basic Syntax of a function is given below:-\n",
    "      \n",
    "      def division():\n",
    "          pass  or we can pass here conditions"
   ]
  },
  {
   "cell_type": "raw",
   "id": "c86c9da4",
   "metadata": {},
   "source": [
    "4. What is the difference between a function and a function call?\n",
    "\n",
    "Ans:- A function is where all codes are written and a function call is a method where we will pass the arguments for funtion and execute."
   ]
  },
  {
   "cell_type": "raw",
   "id": "5c73cc7f",
   "metadata": {},
   "source": [
    "5. How many global scopes are there in a Python program? How many local scopes?\n",
    "\n",
    "Ans:- In a python program single global variable is used . How ever if we create a global variable then its replaced with previous value.\n",
    "    However local scope is limited as per function or block of code requirements and they will destroy post block execution ."
   ]
  },
  {
   "cell_type": "raw",
   "id": "0dbadfcd",
   "metadata": {},
   "source": [
    "6. What happens to variables in a local scope when the function call returns?\n",
    "\n",
    "Ans:- local scope variables destroyed when function call returns "
   ]
  },
  {
   "cell_type": "raw",
   "id": "354af52f",
   "metadata": {},
   "source": [
    "7. What is the concept of a return value? Is it possible to have a return value in an expression?\n",
    "\n",
    "Ans:- A return statement is used to end the execution of the function call and returns the result  to the caller. The statements after the return statements are not executed. \n",
    "If the return statement is without any expression, then the special value None is returned so its possible to have a return value in expression."
   ]
  },
  {
   "cell_type": "raw",
   "id": "91bf2e8f",
   "metadata": {},
   "source": [
    "8. If a function does not have a return statement, what is the return value of a call to that function?\n",
    "\n",
    "Ans:- if a function does not have a return statement it will return None "
   ]
  },
  {
   "cell_type": "raw",
   "id": "28e9cf90",
   "metadata": {},
   "source": [
    "9. How do you make a function variable refer to the global variable?\n",
    "\n",
    "Ans:- if we have to make a function variable refer to the global variable then we have to use global keyword for declaring which   variable refer to global . "
   ]
  },
  {
   "cell_type": "raw",
   "id": "c77c4acc",
   "metadata": {},
   "source": [
    "10. What is the data type of None?\n",
    "\n",
    "Ans:- it is the datatype of class Nonetype object. "
   ]
  },
  {
   "cell_type": "raw",
   "id": "e7872cb6",
   "metadata": {},
   "source": [
    "11. What does the sentence import areallyourpetsnamederic do?\n",
    "\n",
    "Ans:- It will import module name as areallyourpetsnamederic."
   ]
  },
  {
   "cell_type": "raw",
   "id": "544477a6",
   "metadata": {},
   "source": [
    "12. If you had a bacon() feature in a spam module, what would you call it after importing spam?\n",
    "\n",
    "Ans:- we can import bacon feature of spam module by following syntax:-\n",
    "     from spam import bacon \n",
    "     \n",
    "     or we can call spam.bacon() post importing spam .\n",
    "        "
   ]
  },
  {
   "cell_type": "raw",
   "id": "d702f796",
   "metadata": {},
   "source": [
    "13. What can you do to save a programme from crashing if it encounters an error?\n",
    "\n",
    "Ans:- we can use error handling  to notify the user of why the error occurred and gracefully exit the process that caused the error.\n",
    "this process is known as Exception handling."
   ]
  },
  {
   "cell_type": "raw",
   "id": "c61f5ded",
   "metadata": {},
   "source": [
    "14. What is the purpose of the try clause? What is the purpose of the except clause?\n",
    "\n",
    "Ans:- its a process of exception handling to prevent crashing of program.\n",
    "    try clause is used for continuing the current execution and if any exception is occured then we have to raise excetion so we can rectify the error .\n",
    "    it will prevent crashing of error.\n",
    "    \n",
    "    "
   ]
  },
  {
   "cell_type": "code",
   "execution_count": null,
   "id": "b4a756b7",
   "metadata": {},
   "outputs": [],
   "source": []
  }
 ],
 "metadata": {
  "kernelspec": {
   "display_name": "Python 3 (ipykernel)",
   "language": "python",
   "name": "python3"
  },
  "language_info": {
   "codemirror_mode": {
    "name": "ipython",
    "version": 3
   },
   "file_extension": ".py",
   "mimetype": "text/x-python",
   "name": "python",
   "nbconvert_exporter": "python",
   "pygments_lexer": "ipython3",
   "version": "3.8.8"
  }
 },
 "nbformat": 4,
 "nbformat_minor": 5
}
