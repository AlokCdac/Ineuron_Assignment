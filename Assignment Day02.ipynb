{
 "cells": [
  {
   "cell_type": "markdown",
   "id": "de12f660",
   "metadata": {},
   "source": [
    "1. Write a Python program to reverse a string without using any built-in string reversal functions."
   ]
  },
  {
   "cell_type": "code",
   "execution_count": 21,
   "id": "89149f8e",
   "metadata": {},
   "outputs": [],
   "source": [
    "def rever_str(s):\n",
    "    st=str(input())\n",
    "    return st[::-1]\n",
    "\n",
    "      "
   ]
  },
  {
   "cell_type": "code",
   "execution_count": 22,
   "id": "cc5c0abc",
   "metadata": {},
   "outputs": [
    {
     "name": "stdout",
     "output_type": "stream",
     "text": [
      "alok\n"
     ]
    },
    {
     "data": {
      "text/plain": [
       "'kola'"
      ]
     },
     "execution_count": 22,
     "metadata": {},
     "output_type": "execute_result"
    }
   ],
   "source": [
    "rever_str(st)"
   ]
  },
  {
   "cell_type": "markdown",
   "id": "9eb8185b",
   "metadata": {},
   "source": [
    "2. Implement a function to check if a given string is a palindrome."
   ]
  },
  {
   "cell_type": "code",
   "execution_count": 26,
   "id": "5106dc7f",
   "metadata": {},
   "outputs": [],
   "source": [
    "def Palindrome(st):\n",
    "    stri=str(input())\n",
    "    rev=stri[::-1]\n",
    "    \n",
    "    if stri==rev:\n",
    "        print(\"string is palindrome\")\n",
    "    else:\n",
    "        print(\"String is not Palindrome\")"
   ]
  },
  {
   "cell_type": "code",
   "execution_count": 28,
   "id": "92c5984d",
   "metadata": {},
   "outputs": [
    {
     "name": "stdout",
     "output_type": "stream",
     "text": [
      "ala\n",
      "string is palindrome\n"
     ]
    }
   ],
   "source": [
    "Palindrome(st)"
   ]
  },
  {
   "cell_type": "markdown",
   "id": "11464881",
   "metadata": {},
   "source": [
    "3. Write a program to find the largest element in a given list."
   ]
  },
  {
   "cell_type": "code",
   "execution_count": 30,
   "id": "70c8cfb6",
   "metadata": {},
   "outputs": [
    {
     "name": "stdout",
     "output_type": "stream",
     "text": [
      "largent element in the list is : 77\n"
     ]
    }
   ],
   "source": [
    "mylist=[1,2,4,55,6,77]\n",
    "el=mylist[0]\n",
    "for element in mylist:\n",
    "    if element>el:\n",
    "        el=element\n",
    "print(\"largent element in the list is :\", el)"
   ]
  },
  {
   "cell_type": "markdown",
   "id": "f67b6268",
   "metadata": {},
   "source": [
    "4. Implement a function to count the occurrence of each element in a list."
   ]
  },
  {
   "cell_type": "code",
   "execution_count": 2,
   "id": "c67718b5",
   "metadata": {},
   "outputs": [
    {
     "data": {
      "text/plain": [
       "Counter({'a': 2, 'b': 2, 'c': 2, 'd': 1, 'g': 2, 'h': 2})"
      ]
     },
     "execution_count": 2,
     "metadata": {},
     "output_type": "execute_result"
    }
   ],
   "source": [
    "from collections import Counter\n",
    "mylis=[\"a\",\"b\",\"c\",\"a\",\"d\",\"c\",\"b\",\"g\",\"h\",\"h\",\"g\"]\n",
    "Counter(mylis)"
   ]
  },
  {
   "cell_type": "markdown",
   "id": "f75ce8cf",
   "metadata": {},
   "source": [
    "5. Write a Python program to find the second largest number in a list."
   ]
  },
  {
   "cell_type": "code",
   "execution_count": 6,
   "id": "1d7295de",
   "metadata": {},
   "outputs": [
    {
     "name": "stdout",
     "output_type": "stream",
     "text": [
      "Second largest number is:  8\n"
     ]
    }
   ],
   "source": [
    "lis=[1,3,4,6,8,3,7,10]\n",
    "\n",
    "#removing duplicates \n",
    "lis1=list(set(lis))\n",
    "\n",
    "#sorting \n",
    "lis1.sort()\n",
    "\n",
    "print(\"Second largest number is: \", lis1[-2])"
   ]
  },
  {
   "cell_type": "markdown",
   "id": "f6fcaba8",
   "metadata": {},
   "source": [
    "6. Implement a function to remove duplicate elements from a list."
   ]
  },
  {
   "cell_type": "code",
   "execution_count": 7,
   "id": "eb7774e9",
   "metadata": {},
   "outputs": [
    {
     "name": "stdout",
     "output_type": "stream",
     "text": [
      "[1, 2, 3, 4, 5, 6]\n"
     ]
    }
   ],
   "source": [
    "li=[1,2,3,4,5,3,2,4,6,3]\n",
    "\n",
    "#removing duplicates \n",
    "li1=list(set(li))\n",
    "\n",
    "print(li1)"
   ]
  },
  {
   "cell_type": "markdown",
   "id": "b0771d02",
   "metadata": {},
   "source": [
    "7. Write a program to calculate the factorial of a given number."
   ]
  },
  {
   "cell_type": "code",
   "execution_count": 14,
   "id": "924cdfcc",
   "metadata": {},
   "outputs": [
    {
     "name": "stdout",
     "output_type": "stream",
     "text": [
      "pl provide a valid numerical value:3\n",
      "6\n"
     ]
    }
   ],
   "source": [
    "num=int(input('pl provide a valid numerical value:'))\n",
    "factorial=1\n",
    "#To check number is zero or negative\n",
    "if num < 0:\n",
    "    print(\"Factorial does not exist of negative number \")\n",
    "elif num==0:\n",
    "    print(\"factorial of zero is 1\")\n",
    "else:\n",
    "    for i in range(1, num+1):\n",
    "        factorial =factorial*i\n",
    "    print(factorial)\n",
    "    "
   ]
  },
  {
   "cell_type": "markdown",
   "id": "f2c07144",
   "metadata": {},
   "source": [
    "8. Implement a function to check if a given number is prime."
   ]
  },
  {
   "cell_type": "code",
   "execution_count": 15,
   "id": "a4e87a48",
   "metadata": {},
   "outputs": [],
   "source": [
    "def isprime(n,i):\n",
    "    if (n==0 or n==1):\n",
    "        return False\n",
    "    if (n==i):\n",
    "        return True\n",
    "    if (n % i == 0):\n",
    "        return False\n",
    "    i=i+1"
   ]
  },
  {
   "cell_type": "code",
   "execution_count": 16,
   "id": "f292f848",
   "metadata": {},
   "outputs": [
    {
     "data": {
      "text/plain": [
       "False"
      ]
     },
     "execution_count": 16,
     "metadata": {},
     "output_type": "execute_result"
    }
   ],
   "source": [
    "isprime(10,5)"
   ]
  },
  {
   "cell_type": "markdown",
   "id": "25ecf95f",
   "metadata": {},
   "source": [
    "9. Write a Python program to sort a list of integers in ascending order"
   ]
  },
  {
   "cell_type": "code",
   "execution_count": 8,
   "id": "1aae163e",
   "metadata": {},
   "outputs": [
    {
     "name": "stdout",
     "output_type": "stream",
     "text": [
      "[1, 2, 3, 3, 3, 4, 6, 6, 7]\n"
     ]
    }
   ],
   "source": [
    "numl=[2,3,4,1,3,6,7,3,6]\n",
    "\n",
    "for i in range(len(numl)):\n",
    "    for j in range(i+1, len(numl)):\n",
    "        if (numl[i] > numl[j]):\n",
    "            temp=numl[i]\n",
    "            numl[i]=numl[j]\n",
    "            numl[j]=temp\n",
    "        \n",
    "        \n",
    "print(numl)"
   ]
  },
  {
   "cell_type": "markdown",
   "id": "9c3c8e7e",
   "metadata": {},
   "source": [
    "10. Implement a function to find the sum of all numbers in a list."
   ]
  },
  {
   "cell_type": "code",
   "execution_count": 2,
   "id": "11de69c5",
   "metadata": {},
   "outputs": [
    {
     "name": "stdout",
     "output_type": "stream",
     "text": [
      "39\n"
     ]
    }
   ],
   "source": [
    "lis=[1,3,5,7,9,13,1]\n",
    "total=0\n",
    "for i in lis:\n",
    "    total+= i\n",
    "    \n",
    "print(total)\n"
   ]
  },
  {
   "cell_type": "markdown",
   "id": "a43eb20c",
   "metadata": {},
   "source": [
    "11. Write a program to find the common elements between two lists."
   ]
  },
  {
   "cell_type": "code",
   "execution_count": 4,
   "id": "1a040ff4",
   "metadata": {},
   "outputs": [
    {
     "data": {
      "text/plain": [
       "[1, 2, 3, 4]"
      ]
     },
     "execution_count": 4,
     "metadata": {},
     "output_type": "execute_result"
    }
   ],
   "source": [
    "lis1=[1,2,3,4,5,6]\n",
    "lis2=[2,4,1,9,7,3]\n",
    "\n",
    "comm=[value for value in lis1 if value in lis2]\n",
    "        \n",
    "comm   "
   ]
  },
  {
   "cell_type": "markdown",
   "id": "84cd7d4f",
   "metadata": {},
   "source": [
    "12. Implement a function to check if a given string is an anagram of another string"
   ]
  },
  {
   "cell_type": "code",
   "execution_count": 7,
   "id": "a65db366",
   "metadata": {},
   "outputs": [
    {
     "name": "stdout",
     "output_type": "stream",
     "text": [
      "please enter string: race\n",
      "please enter string to check anagram: care\n",
      "race and care are anagram\n"
     ]
    }
   ],
   "source": [
    "str1=input(\"please enter string: \")\n",
    "str2=input('please enter string to check anagram: ')\n",
    "\n",
    "str1=str1.lower()\n",
    "str2=str2.lower()\n",
    "\n",
    "if (len(str1)==len(str2)):\n",
    "    sor_str1=sorted(str1)\n",
    "    sor_str2=sorted(str2)\n",
    "    \n",
    "    \n",
    "    if (sor_str1==sor_str2):\n",
    "        print(str1 + \" and \" + str2 + \" are anagram\")\n",
    "    else:\n",
    "        print(str1 + \"and\" + str2 + \" are not anagram\")"
   ]
  },
  {
   "cell_type": "markdown",
   "id": "b16eb0d4",
   "metadata": {},
   "source": [
    "13. Write a Python program to generate all permutations of a given string."
   ]
  },
  {
   "cell_type": "code",
   "execution_count": 16,
   "id": "cdc4e432",
   "metadata": {},
   "outputs": [
    {
     "name": "stdout",
     "output_type": "stream",
     "text": [
      "sup\n",
      "spu\n",
      "usp\n",
      "ups\n",
      "pus\n",
      "psu\n"
     ]
    }
   ],
   "source": [
    "def get_perm(str1,i=0):\n",
    "    if i==len(str1):\n",
    "        print(\"\".join(str1))\n",
    "    \n",
    "    for j in range(i, len(str1)):\n",
    "        words=[c for c in str1]\n",
    "    \n",
    "        words[i],words[j]=words[j],words[i]\n",
    "        get_perm(words,i+1)\n",
    "    \n",
    "get_perm('sup')\n",
    "    \n",
    "\n"
   ]
  },
  {
   "cell_type": "markdown",
   "id": "38115ea7",
   "metadata": {},
   "source": [
    "14. Implement a function to calculate the Fibonacci sequence up to a given number of terms."
   ]
  },
  {
   "cell_type": "code",
   "execution_count": 17,
   "id": "05f4fa66",
   "metadata": {},
   "outputs": [
    {
     "name": "stdout",
     "output_type": "stream",
     "text": [
      "How many terms? 4\n",
      "Fibonacci sequence:\n",
      "0\n",
      "1\n",
      "1\n",
      "2\n"
     ]
    }
   ],
   "source": [
    "\n",
    "\n",
    "nterms = int(input(\"How many terms? \"))\n",
    "\n",
    "# first two terms\n",
    "n1, n2 = 0, 1\n",
    "count = 0\n",
    "\n",
    "# check if the number of terms is valid\n",
    "if nterms <= 0:\n",
    "   print(\"Please enter a positive integer\")\n",
    "# if there is only one term, return n1\n",
    "elif nterms == 1:\n",
    "   print(\"Fibonacci sequence upto\",nterms,\":\")\n",
    "   print(n1)\n",
    "# generate fibonacci sequence\n",
    "else:\n",
    "   print(\"Fibonacci sequence:\")\n",
    "   while count < nterms:\n",
    "       print(n1)\n",
    "       nth = n1 + n2\n",
    "       # update values\n",
    "       n1 = n2\n",
    "       n2 = nth\n",
    "       count += 1"
   ]
  },
  {
   "cell_type": "code",
   "execution_count": 18,
   "id": "03f25b37",
   "metadata": {},
   "outputs": [],
   "source": [
    "def median(data):\n",
    "    sorted_data = sorted(data)\n",
    "    data_len = len(sorted_data)\n",
    "    middle = (data_len - 1) // 2\n",
    "    if middle % 2:\n",
    "        return sorted_data[middle]\n",
    "    else:\n",
    "        return (sorted_data[middle] + sorted_data[middle + 1]) / 2.0"
   ]
  },
  {
   "cell_type": "code",
   "execution_count": 19,
   "id": "1514fe09",
   "metadata": {},
   "outputs": [
    {
     "data": {
      "text/plain": [
       "4"
      ]
     },
     "execution_count": 19,
     "metadata": {},
     "output_type": "execute_result"
    }
   ],
   "source": [
    "median([1,3,2,4,6,7,9])"
   ]
  },
  {
   "cell_type": "code",
   "execution_count": 28,
   "id": "3962d49c",
   "metadata": {},
   "outputs": [
    {
     "data": {
      "text/plain": [
       "'false'"
      ]
     },
     "execution_count": 28,
     "metadata": {},
     "output_type": "execute_result"
    }
   ],
   "source": [
    "def ordertest(A):\n",
    "    n = len(A)\n",
    "    for i in range(n):\n",
    "        if A[i] >= A[i+1]:\n",
    "            return 'true'\n",
    "        else:\n",
    "            return 'false'\n",
    "ordertest([1,3,2,4,5,6])"
   ]
  },
  {
   "cell_type": "markdown",
   "id": "34d734dd",
   "metadata": {},
   "source": [
    "\n",
    "        17. Write a Python program to find the intersection of two lists."
   ]
  },
  {
   "cell_type": "code",
   "execution_count": 29,
   "id": "e2e1295e",
   "metadata": {},
   "outputs": [
    {
     "name": "stdout",
     "output_type": "stream",
     "text": [
      "['b', 'd', 'e']\n"
     ]
    }
   ],
   "source": [
    "list1 = ['a', 'b', 'c', 'd', 'e']\n",
    "list2 = ['b', 'd', 'e', 'f', 'g']\n",
    "\n",
    "intersection = list()\n",
    "\n",
    "for item in list1:\n",
    "    if item in list2:\n",
    "        intersection.append(item)\n",
    "\n",
    "print(intersection)"
   ]
  },
  {
   "cell_type": "markdown",
   "id": "1a6137e1",
   "metadata": {},
   "source": [
    "18. Implement a function to find the maximum subarray sum in a given list."
   ]
  },
  {
   "cell_type": "code",
   "execution_count": 30,
   "id": "fe168a3c",
   "metadata": {},
   "outputs": [],
   "source": [
    "#not understand "
   ]
  },
  {
   "cell_type": "markdown",
   "id": "a96a35e0",
   "metadata": {},
   "source": [
    "19. Write a program to remove all vowels from a given string."
   ]
  },
  {
   "cell_type": "code",
   "execution_count": 32,
   "id": "6d0a65ea",
   "metadata": {},
   "outputs": [
    {
     "name": "stdout",
     "output_type": "stream",
     "text": [
      "please provide string : what is your name ?\n",
      "wht s yr nm ?\n"
     ]
    }
   ],
   "source": [
    "stri=input(\"please provide string : \")\n",
    "\n",
    "vowels=['a','e','i','o','u']\n",
    "\n",
    "result = [letter for letter in stri if letter.lower() not in vowels]\n",
    "result = ''.join(result)\n",
    "print(result)"
   ]
  },
  {
   "cell_type": "markdown",
   "id": "d966fb10",
   "metadata": {},
   "source": [
    "20. Implement a function to reverse the order of words in a given sentence."
   ]
  },
  {
   "cell_type": "code",
   "execution_count": 33,
   "id": "2a648c2d",
   "metadata": {},
   "outputs": [
    {
     "name": "stdout",
     "output_type": "stream",
     "text": [
      "please provide sentence: Alok Dwivedi\n",
      "Dwivedi Alok\n"
     ]
    }
   ],
   "source": [
    "s = input(\"please provide sentence: \")\n",
    "# split first\n",
    "a = s.split()\n",
    "# reverse list\n",
    "a.reverse()\n",
    "# now join them\n",
    "result = \" \".join(a)\n",
    "# print it\n",
    "print(result)"
   ]
  },
  {
   "cell_type": "markdown",
   "id": "a7cad4a6",
   "metadata": {},
   "source": [
    "21. Write a Python program to check if two strings are anagrams of each other."
   ]
  },
  {
   "cell_type": "raw",
   "id": "ee95d26c",
   "metadata": {},
   "source": [
    "refer Que number tweleve "
   ]
  },
  {
   "cell_type": "markdown",
   "id": "31c13782",
   "metadata": {},
   "source": [
    "22. Implement a function to find the first non-repeating character in a string."
   ]
  },
  {
   "cell_type": "code",
   "execution_count": 37,
   "id": "8e8db74d",
   "metadata": {},
   "outputs": [],
   "source": [
    "def FirstNonRepeating(A):\n",
    "        \n",
    "        list = []\n",
    "        mp = {}\n",
    "        ans = ''\n",
    " \n",
    "        for ch in A:\n",
    "            if ch not in mp:  # new character visited first time\n",
    "                list.append(ch)\n",
    "                mp[ch] = 1\n",
    "            else:\n",
    "                # any repeated character encountered\n",
    "                if ch in list:\n",
    "                    list.remove(ch)\n",
    "            ans += list[0] if list else '#'\n",
    " \n",
    "        return ans"
   ]
  },
  {
   "cell_type": "markdown",
   "id": "8a5450e9",
   "metadata": {},
   "source": [
    "23. Write a program to find the prime factors of a given number."
   ]
  },
  {
   "cell_type": "code",
   "execution_count": null,
   "id": "2efa5967",
   "metadata": {},
   "outputs": [],
   "source": []
  }
 ],
 "metadata": {
  "kernelspec": {
   "display_name": "Python 3 (ipykernel)",
   "language": "python",
   "name": "python3"
  },
  "language_info": {
   "codemirror_mode": {
    "name": "ipython",
    "version": 3
   },
   "file_extension": ".py",
   "mimetype": "text/x-python",
   "name": "python",
   "nbconvert_exporter": "python",
   "pygments_lexer": "ipython3",
   "version": "3.8.8"
  }
 },
 "nbformat": 4,
 "nbformat_minor": 5
}
