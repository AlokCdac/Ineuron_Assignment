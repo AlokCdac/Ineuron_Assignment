{
 "cells": [
  {
   "cell_type": "markdown",
   "id": "9d9169fc",
   "metadata": {},
   "source": [
    "The values will be logged in the following order:\n",
    "\n",
    "1\n",
    "4\n",
    "3\n",
    "2"
   ]
  },
  {
   "cell_type": "raw",
   "id": "01f735ff",
   "metadata": {},
   "source": [
    "Let’s first explain the parts of this that are presumably more obvious:\n",
    "\n",
    "1 and 4 are displayed first since they are logged by simple calls to console.log() without any delay\n",
    "\n",
    "2 is displayed after 3 because 2 is being logged after a delay of 1000 msecs (i.e., 1 second) whereas 3 is being logged after a delay of 0 msecs.\n",
    "\n",
    "OK, fine. But if 3 is being logged after a delay of 0 msecs, doesn’t that mean that it is being logged right away? And, if so, shouldn’t it be logged before 4, since 4 is being logged by a later line of code?\n",
    "\n",
    "\n",
    "The browser has an event loop which checks the event queue and processes pending events."
   ]
  }
 ],
 "metadata": {
  "kernelspec": {
   "display_name": "Python 3 (ipykernel)",
   "language": "python",
   "name": "python3"
  },
  "language_info": {
   "codemirror_mode": {
    "name": "ipython",
    "version": 3
   },
   "file_extension": ".py",
   "mimetype": "text/x-python",
   "name": "python",
   "nbconvert_exporter": "python",
   "pygments_lexer": "ipython3",
   "version": "3.8.8"
  }
 },
 "nbformat": 4,
 "nbformat_minor": 5
}
