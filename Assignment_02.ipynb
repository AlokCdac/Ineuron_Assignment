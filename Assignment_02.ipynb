{
 "cells": [
  {
   "cell_type": "markdown",
   "id": "60aab74a",
   "metadata": {},
   "source": [
    "1.What are the two values of the Boolean data type? How do you write them?\n",
    "\n",
    "Ans:- Two Values of boolean data type is 1 and 0\n",
    "      We Can Write Them As 'True' And 'False'"
   ]
  },
  {
   "cell_type": "markdown",
   "id": "abf933ea",
   "metadata": {},
   "source": [
    "2. What are the three different types of Boolean operators?\n",
    "\n",
    "Ans:- Three different Types of boolean Operators Are 'And','or'and 'Not' and they always returned Value as True or False. "
   ]
  },
  {
   "cell_type": "markdown",
   "id": "e2faf1c4",
   "metadata": {},
   "source": [
    "3. Make a list of each Boolean operator's truth tables (i.e. every possible combination of Boolean values for the operator and what it evaluate ).\n",
    "\n",
    "Ans:- Truth Table For And Operator :-\n",
    "\n",
    "         Value1\tValue2\tResult\n",
    "            0\t0\tFalse\n",
    "            1\t0\tFalse\n",
    "            0\t1\tFalse\n",
    "            1\t1\tTrue\n",
    "       \n",
    "       Truth Table for Or operator:\n",
    "       \n",
    "         Value1\tValue2\tResult\n",
    "            0\t0\tFalse\n",
    "            1\t0\tTrue\n",
    "            0\t1\tTrue\n",
    "            1\t1\tTrue\n",
    "\n",
    "       Truth Table for Not operator:\n",
    "           Value\tResult\n",
    "            0\t\tTrue\n",
    "            1\t\tFalse\n",
    "            \n",
    "          \n",
    "            \n",
    "       \n",
    "       "
   ]
  },
  {
   "cell_type": "raw",
   "id": "8aef5501",
   "metadata": {},
   "source": [
    "4. What are the values of the following expressions?\n",
    "(5 > 4) and (3 == 5)\n",
    "\n",
    "Ans:- False\n",
    "not (5 > 4)\n",
    "\n",
    "Ans:- False\n",
    "\n",
    "(5 > 4) or (3 == 5)\n",
    "\n",
    "Ans:- True\n",
    "\n",
    "not ((5 > 4) or (3 == 5))\n",
    "\n",
    "Ans:-False\n",
    "\n",
    "(True and True) and (True == False)\n",
    "\n",
    "Ans:-False\n",
    "\n",
    "(not False) or (not True)\n",
    "\n",
    "And:- True\n"
   ]
  },
  {
   "cell_type": "raw",
   "id": "1c963f56",
   "metadata": {},
   "source": [
    "5. What are the six comparison operators?\n",
    "\n",
    "Ans:- Six Comaprison Operators symbol and meaning is given below:-\n",
    "\n",
    "       ==       Equal To\n",
    "       !==      Not equal to\n",
    "       >        Greater Than\n",
    "       >=       Greater Than Equal to\n",
    "       <        Less Than\n",
    "       <+       Less than Equal To"
   ]
  },
  {
   "cell_type": "raw",
   "id": "210f14e7",
   "metadata": {},
   "source": [
    "6. How do you tell the difference between the equal to and assignment operators?Describe a condition and when you would use one.\n",
    "\n",
    "Ans:- Equal (==) operator is used for comapring value and it Always return Boolean Value .\n",
    "      Where Assignment(=) operator is used for assigning value to a variable .\n",
    "      \n",
    "      Suppose we have to Assign Value(10) to A Variable ALOk:\n",
    "      \n",
    "      Then We use Alok=10\n",
    "      \n",
    "      And if we have to campare a value(10) to ALOK Variable:\n",
    "      \n",
    "      Then we use Alok==10"
   ]
  },
  {
   "cell_type": "code",
   "execution_count": 7,
   "id": "37bba7f5",
   "metadata": {},
   "outputs": [
    {
     "name": "stdout",
     "output_type": "stream",
     "text": [
      "ham\n",
      "spam\n",
      "spam\n"
     ]
    }
   ],
   "source": [
    "#7. Identify the three blocks in this code:\n",
    "spam = 0     # Initialisation of Code\n",
    "if spam == 10: # First Condition need to check \n",
    "    print('eggs')\n",
    "\n",
    "if spam > 5:    # Second Condition Need to check\n",
    "    print('bacon')\n",
    "\n",
    "else:           # When both condition not True then execute \n",
    "    print('ham')\n",
    "    print('spam')\n",
    "    print('spam')\n",
    "\n"
   ]
  },
  {
   "cell_type": "raw",
   "id": "581816cd",
   "metadata": {},
   "source": [
    "8. Write code that prints Hello if 1 is stored in spam, prints Howdy if 2 is stored in spam, and prints Greetings! if anything else is stored in spam."
   ]
  },
  {
   "cell_type": "code",
   "execution_count": 20,
   "id": "2a17ac10",
   "metadata": {},
   "outputs": [
    {
     "name": "stdout",
     "output_type": "stream",
     "text": [
      "Greetings!\n"
     ]
    }
   ],
   "source": [
    " spam=3\n",
    " if spam==1:\n",
    "    print('spam')\n",
    "        \n",
    " elif spam==2:\n",
    "    print('Howdy')\n",
    "        \n",
    " else:\n",
    "    print('Greetings!')  "
   ]
  },
  {
   "cell_type": "raw",
   "id": "d016aa17",
   "metadata": {},
   "source": [
    "9.If your programme is stuck in an endless loop, what keys you’ll press?\n",
    "\n",
    "Ans:- CTRL + C"
   ]
  },
  {
   "cell_type": "raw",
   "id": "845c94b2",
   "metadata": {},
   "source": [
    "10. How can you tell the difference between break and continue?\n",
    "\n",
    "Ans:-Both are used for termination of loops\n",
    "    break is used to terminate the loop and continue after the loop \n",
    "    while continue only stops the current iteration and continue the loop "
   ]
  },
  {
   "cell_type": "raw",
   "id": "f50af8fc",
   "metadata": {},
   "source": [
    "11. In a for loop, what is the difference between range(10), range(0, 10), and range(0, 10, 1)?\n",
    "\n",
    "Ans:- All codesresults are same bit range(10) having default start value is \n",
    "        in range(0,10) we have defined start and stop value\n",
    "        in range(0,10,1) having mentioned step to use "
   ]
  },
  {
   "cell_type": "raw",
   "id": "f6994c9c",
   "metadata": {},
   "source": [
    "12. Write a short program that prints the numbers 1 to 10 using a for loop. Then write an equivalent program that prints the numbers 1 to 10 using a while loop."
   ]
  },
  {
   "cell_type": "code",
   "execution_count": 43,
   "id": "bc4b3b64",
   "metadata": {},
   "outputs": [
    {
     "name": "stdout",
     "output_type": "stream",
     "text": [
      "0 1 2 3 4 5 6 7 8 9 10 0 1 2 3 4 5 6 7 8 9 10 "
     ]
    }
   ],
   "source": [
    "#using for loop\n",
    "for i in range(11):\n",
    "    print(i, end=\" \")\n",
    "    \n",
    "#using while loop\n",
    "\n",
    "i=0\n",
    "while i<=10:\n",
    "    print(i,end=' ')\n",
    "    i=i+1"
   ]
  },
  {
   "cell_type": "raw",
   "id": "6707409e",
   "metadata": {},
   "source": [
    "13. If you had a function named bacon() inside a module named spam, how would you call it after importing spam?\n",
    "\n",
    "Ans:-  spam.bacon()"
   ]
  },
  {
   "cell_type": "code",
   "execution_count": null,
   "id": "a405b111",
   "metadata": {},
   "outputs": [],
   "source": []
  }
 ],
 "metadata": {
  "kernelspec": {
   "display_name": "Python 3 (ipykernel)",
   "language": "python",
   "name": "python3"
  },
  "language_info": {
   "codemirror_mode": {
    "name": "ipython",
    "version": 3
   },
   "file_extension": ".py",
   "mimetype": "text/x-python",
   "name": "python",
   "nbconvert_exporter": "python",
   "pygments_lexer": "ipython3",
   "version": "3.8.8"
  }
 },
 "nbformat": 4,
 "nbformat_minor": 5
}
