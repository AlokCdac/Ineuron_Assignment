{
 "cells": [
  {
   "cell_type": "code",
   "execution_count": 1,
   "id": "e198b8c5",
   "metadata": {},
   "outputs": [],
   "source": [
    "# Stack Creation\n",
    "def create_stack():\n",
    "    stack = list()            \n",
    "    return stack"
   ]
  },
  {
   "cell_type": "code",
   "execution_count": 2,
   "id": "385bca33",
   "metadata": {},
   "outputs": [],
   "source": [
    "# Checking for empty stack\n",
    "def Isempty(stack):\n",
    "    return len(stack) == 0"
   ]
  },
  {
   "cell_type": "code",
   "execution_count": 3,
   "id": "3017189b",
   "metadata": {},
   "outputs": [],
   "source": [
    "# Inserting items into the stack\n",
    "def push(stack, n):\n",
    "    stack.append(n)\n",
    "    print(\"pushed item: \" + n)"
   ]
  },
  {
   "cell_type": "markdown",
   "id": "bc0f5ce4",
   "metadata": {},
   "source": [
    "Now implementing Pop in Stack"
   ]
  },
  {
   "cell_type": "code",
   "execution_count": 4,
   "id": "d6c10277",
   "metadata": {},
   "outputs": [],
   "source": [
    "# Removal of an element from the stack\n",
    "def pop(stack):\n",
    "    if (Isempty(stack)):\n",
    "        return \"stack is empty\"\n",
    "    else:\n",
    "        return stack.pop()"
   ]
  },
  {
   "cell_type": "code",
   "execution_count": 6,
   "id": "39f69dbf",
   "metadata": {},
   "outputs": [
    {
     "name": "stdout",
     "output_type": "stream",
     "text": [
      "pushed item: A\n",
      "pushed item: L\n",
      "pushed item: O\n",
      "pushed item: K\n"
     ]
    }
   ],
   "source": [
    "stack = create_stack()\n",
    "push(stack, str('A'))\n",
    "push(stack, str('L'))\n",
    "push(stack, str('O'))\n",
    "push(stack, str('K'))"
   ]
  },
  {
   "cell_type": "code",
   "execution_count": 7,
   "id": "887fbf16",
   "metadata": {},
   "outputs": [
    {
     "data": {
      "text/plain": [
       "['A', 'L', 'O', 'K']"
      ]
     },
     "execution_count": 7,
     "metadata": {},
     "output_type": "execute_result"
    }
   ],
   "source": [
    "stack"
   ]
  },
  {
   "cell_type": "code",
   "execution_count": 8,
   "id": "280d1df5",
   "metadata": {},
   "outputs": [
    {
     "data": {
      "text/plain": [
       "'K'"
      ]
     },
     "execution_count": 8,
     "metadata": {},
     "output_type": "execute_result"
    }
   ],
   "source": [
    "pop(stack)"
   ]
  },
  {
   "cell_type": "code",
   "execution_count": 9,
   "id": "b152aa65",
   "metadata": {},
   "outputs": [
    {
     "data": {
      "text/plain": [
       "False"
      ]
     },
     "execution_count": 9,
     "metadata": {},
     "output_type": "execute_result"
    }
   ],
   "source": [
    "Isempty(stack)"
   ]
  },
  {
   "cell_type": "code",
   "execution_count": null,
   "id": "dff1485d",
   "metadata": {},
   "outputs": [],
   "source": []
  }
 ],
 "metadata": {
  "kernelspec": {
   "display_name": "Python 3 (ipykernel)",
   "language": "python",
   "name": "python3"
  },
  "language_info": {
   "codemirror_mode": {
    "name": "ipython",
    "version": 3
   },
   "file_extension": ".py",
   "mimetype": "text/x-python",
   "name": "python",
   "nbconvert_exporter": "python",
   "pygments_lexer": "ipython3",
   "version": "3.8.8"
  }
 },
 "nbformat": 4,
 "nbformat_minor": 5
}
