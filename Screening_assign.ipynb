{
 "cells": [
  {
   "cell_type": "code",
   "execution_count": 2,
   "id": "e80ee3d9",
   "metadata": {},
   "outputs": [],
   "source": [
    "def replacement_str():\n",
    "    fin=open(\"example.txt\",\"rt\" )\n",
    "    data=fin.read()\n",
    "    data=data.replace(\"placement\",\"screening\")\n",
    "    fin.close()\n",
    "    fin=open(\"example.txt\",\"wt\" )\n",
    "    fin.write(data)\n",
    "    fin.close()\n",
    "    \n",
    "    \n",
    "    \n",
    "\n",
    "    "
   ]
  },
  {
   "cell_type": "markdown",
   "id": "27205a41",
   "metadata": {},
   "source": [
    "Abstract Class:- Like the name suggests, it is only abstract and can not be instantiated. A class should contain at least one abstract method to become an abstract class. We can create abstract classes by using the abc module.\n",
    "\n",
    "From the abc module, we need to import ABC class to inherit and abstractmethod decorator to create abstract methods. Abstract classes can have a normal method and an abstract method."
   ]
  },
  {
   "cell_type": "code",
   "execution_count": 3,
   "id": "26dd4244",
   "metadata": {},
   "outputs": [
    {
     "name": "stdout",
     "output_type": "stream",
     "text": [
      "I work in Government sector\n",
      "I work in Private sector\n"
     ]
    }
   ],
   "source": [
    "from abc import ABC, abstractmethod\n",
    "\n",
    "# abstract class\n",
    "class Employee(ABC):\n",
    "\n",
    "    @abstractmethod\n",
    "    def sector(self):\n",
    "        pass\n",
    "\n",
    "class GovtEmployee(Employee):\n",
    "\n",
    "    # Overriding abstract method\n",
    "    def sector(self):\n",
    "        print(\"I work in Government sector\")\n",
    "\n",
    "class PrivateEmployee(Employee):\n",
    "\n",
    "    # Overriding abstract method\n",
    "    def sector(self):\n",
    "        print(\"I work in Private sector\")\n",
    "\n",
    "emp1 = GovtEmployee()\n",
    "emp2 = PrivateEmployee()\n",
    "\n",
    "emp1.sector()\n",
    "emp2.sector()"
   ]
  },
  {
   "cell_type": "code",
   "execution_count": 4,
   "id": "3ae43fa6",
   "metadata": {},
   "outputs": [
    {
     "ename": "TypeError",
     "evalue": "Can't instantiate abstract class Employee with abstract methods sector",
     "output_type": "error",
     "traceback": [
      "\u001b[1;31m---------------------------------------------------------------------------\u001b[0m",
      "\u001b[1;31mTypeError\u001b[0m                                 Traceback (most recent call last)",
      "\u001b[1;32mC:\\PROGRA~1\\KMSpico\\temp/ipykernel_15672/2276361189.py\u001b[0m in \u001b[0;36m<module>\u001b[1;34m\u001b[0m\n\u001b[1;32m----> 1\u001b[1;33m \u001b[0memp\u001b[0m\u001b[1;33m=\u001b[0m\u001b[0mEmployee\u001b[0m\u001b[1;33m(\u001b[0m\u001b[1;33m)\u001b[0m\u001b[1;33m\u001b[0m\u001b[1;33m\u001b[0m\u001b[0m\n\u001b[0m",
      "\u001b[1;31mTypeError\u001b[0m: Can't instantiate abstract class Employee with abstract methods sector"
     ]
    }
   ],
   "source": [
    "emp=Employee()"
   ]
  },
  {
   "cell_type": "raw",
   "id": "42841267",
   "metadata": {},
   "source": [
    "Its shows abstract classes cant be instantiated"
   ]
  },
  {
   "cell_type": "markdown",
   "id": "3573103c",
   "metadata": {},
   "source": [
    "Inheritance :- When we need to create a class that is similar to the class we have defined earlier, we can simply inherit the old class. The class which got inherited is called a parent class or superclass and the class inheriting the parent class is called a child class or subclass. Child class contains all the methods of its parent class.\n",
    "\n",
    "The syntax of inheritance is \n",
    "\n",
    "class SubClass(SuperClass):"
   ]
  },
  {
   "cell_type": "code",
   "execution_count": null,
   "id": "e80ee8c4",
   "metadata": {},
   "outputs": [],
   "source": [
    "class ParentClass: # Superclass\n",
    "\n",
    "    def parent_method(self):\n",
    "        return \"Method in parent class\"\n",
    "\n",
    "class ChildClass(ParentClass): # Subclass\n",
    "    pass\n",
    "\n",
    "child = ChildClass()\n",
    "\n",
    "print(child.parent_method())"
   ]
  },
  {
   "cell_type": "markdown",
   "id": "4184c7cb",
   "metadata": {},
   "source": [
    "Decorators:- A decorator is a function that accepts a function as input and returns a new function as output, allowing you to extend the behavior of the function without explicitly modifying it"
   ]
  },
  {
   "cell_type": "code",
   "execution_count": null,
   "id": "f9a0e0b8",
   "metadata": {},
   "outputs": [],
   "source": [
    "def decorate_it(func):\n",
    "    def wrapper():\n",
    "        print(\"Before function call\")\n",
    "        func()\n",
    "        print(\"After function call\")\n",
    "    return wrapper\n",
    "\n",
    "@decorate_it\n",
    "def hello():\n",
    "    print(\"Hello world\")\n",
    "\n",
    "hello()"
   ]
  },
  {
   "cell_type": "code",
   "execution_count": null,
   "id": "7a847d1d",
   "metadata": {},
   "outputs": [],
   "source": []
  }
 ],
 "metadata": {
  "kernelspec": {
   "display_name": "Python 3 (ipykernel)",
   "language": "python",
   "name": "python3"
  },
  "language_info": {
   "codemirror_mode": {
    "name": "ipython",
    "version": 3
   },
   "file_extension": ".py",
   "mimetype": "text/x-python",
   "name": "python",
   "nbconvert_exporter": "python",
   "pygments_lexer": "ipython3",
   "version": "3.8.8"
  }
 },
 "nbformat": 4,
 "nbformat_minor": 5
}
