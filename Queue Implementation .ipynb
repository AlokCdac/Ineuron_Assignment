{
 "cells": [
  {
   "cell_type": "code",
   "execution_count": 1,
   "id": "e301e836",
   "metadata": {},
   "outputs": [],
   "source": [
    "# Implement Queue using List(Functions)\n",
    "q=[]\n",
    "def Enqueue():\n",
    "    if len(q)==size: # check wether the stack is full or not\n",
    "        print(\"Queue is Full!!!!\")\n",
    "    else:\n",
    "        element=input(\"Enter the element:\")\n",
    "        q.append(element)\n",
    "        print(element,\"is added to the Queue!\")\n",
    "def dequeue():\n",
    "    if not q:# or if len(stack)==0\n",
    "        print(\"Queue is Empty!!!\")\n",
    "    else:\n",
    "        e=q.pop(0)\n",
    "        print(\"element removed!!:\",e)\n",
    "def display():\n",
    "    print(q)\n",
    "    size=int(input(\"Enter the size of Queue:\"))\n",
    "    while True:\n",
    "        print(\"Select the Operation:1.Add 2.Delete 3. Display 4. Quit\")\n",
    "        choice=int(input())\n",
    "        if choice==1:\n",
    "            Enqueue()\n",
    "        elif choice==2:\n",
    "            dequeue()\n",
    "        elif choice==3:\n",
    "            display()\n",
    "        elif choice==4:\n",
    "            break\n",
    "        else:\n",
    "            print(\"Invalid Option!!!\")"
   ]
  },
  {
   "cell_type": "code",
   "execution_count": null,
   "id": "83126324",
   "metadata": {},
   "outputs": [],
   "source": []
  }
 ],
 "metadata": {
  "kernelspec": {
   "display_name": "Python 3 (ipykernel)",
   "language": "python",
   "name": "python3"
  },
  "language_info": {
   "codemirror_mode": {
    "name": "ipython",
    "version": 3
   },
   "file_extension": ".py",
   "mimetype": "text/x-python",
   "name": "python",
   "nbconvert_exporter": "python",
   "pygments_lexer": "ipython3",
   "version": "3.8.8"
  }
 },
 "nbformat": 4,
 "nbformat_minor": 5
}
