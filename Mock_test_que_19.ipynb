{
 "cells": [
  {
   "cell_type": "code",
   "execution_count": 5,
   "id": "de351cd5",
   "metadata": {},
   "outputs": [
    {
     "name": "stdout",
     "output_type": "stream",
     "text": [
      "The mean of the given element of list:  4.0\n"
     ]
    }
   ],
   "source": [
    "def calculate_mean(num):\n",
    "    summation=0\n",
    "    for i in num:\n",
    "        summation=summation + i\n",
    "    average=summation / len(num)\n",
    "    \n",
    "    return average\n",
    "print (\"The mean of the given element of list: \", calculate_mean([1,3,5,2,5,8]))"
   ]
  },
  {
   "cell_type": "code",
   "execution_count": null,
   "id": "fe859cfd",
   "metadata": {},
   "outputs": [],
   "source": []
  }
 ],
 "metadata": {
  "kernelspec": {
   "display_name": "Python 3 (ipykernel)",
   "language": "python",
   "name": "python3"
  },
  "language_info": {
   "codemirror_mode": {
    "name": "ipython",
    "version": 3
   },
   "file_extension": ".py",
   "mimetype": "text/x-python",
   "name": "python",
   "nbconvert_exporter": "python",
   "pygments_lexer": "ipython3",
   "version": "3.8.8"
  }
 },
 "nbformat": 4,
 "nbformat_minor": 5
}
