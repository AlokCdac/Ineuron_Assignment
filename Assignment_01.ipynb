{
 "cells": [
  {
   "cell_type": "raw",
   "id": "ba89032c",
   "metadata": {},
   "source": [
    "1. In the below elements which of them are values or an expression? eg:- values can be integer or string and expressions will be mathematical operators.\n",
    "* \n",
    "'hello'\n",
    "-87.8\n",
    "- \n",
    "/ \n",
    "+\t\n",
    "6 \n"
   ]
  },
  {
   "cell_type": "raw",
   "id": "e181ea9d",
   "metadata": {},
   "source": [
    "Ans:- * is An expression. \n",
    "      'hello\" is a Value.\n",
    "      -87.8 is a value.\n",
    "      - is an expression.\n",
    "      / is an expression.\n",
    "      + is an expression.\n",
    "      6 is a Value.\n",
    "      "
   ]
  },
  {
   "cell_type": "raw",
   "id": "add8229c",
   "metadata": {},
   "source": [
    "2. What is the difference between string and variable?\n",
    "\n",
    "Ans:- String is a Value and Variable is a container which stores Value \n",
    "    In python strings are always visible in quotes where we can't put quotes on variable\n",
    "    Variables Having naming convetions where string not havng any Such type of restriction "
   ]
  },
  {
   "cell_type": "raw",
   "id": "c67e398b",
   "metadata": {},
   "source": [
    "3. Describe three different data types.\n",
    "\n",
    "Ans:- 1.Numeric 2. Boolean 3. List\n",
    "    \n",
    "    Numeric Data Types:- In python All integer Values are known as Integers Data Types .\n",
    "    \n",
    "    Boolean Data Types :- Bollean data Types having Binary Notification , They are having only two Values and mainly Used For Identifying Condition like any Cindition Is True or False.\n",
    "    \n",
    "    List: List data types are mainly introduced for storing multiple type of data \n",
    "        list data type having many advantages like it can store data and we can perform multiple operation using basic operation of Python "
   ]
  },
  {
   "cell_type": "raw",
   "id": "5b015e73",
   "metadata": {},
   "source": [
    "4. What is an expression made up of? What do all expressions do?\n",
    "\n",
    "Ans:- An expression is made up with Data and operators .\n",
    "    for performing operation on data we have to create expression .\n",
    "    \n",
    "    Expression performed operations on data and provide appropriate results based on operation .\n",
    "    "
   ]
  },
  {
   "cell_type": "raw",
   "id": "7220d8b1",
   "metadata": {},
   "source": [
    "5. This assignment statements, like spam = 10. What is the difference between an expression and a statement?\n",
    "\n",
    "Ans:- In this Assignment Statements we are assigning Value to Spam Variable >\n",
    "    Basic Difference between Expression and statement is Expression Perform operations on Given statement \n",
    "    Where Statement is the writing method of an operation "
   ]
  },
  {
   "cell_type": "raw",
   "id": "5029794a",
   "metadata": {},
   "source": [
    "6. After running the following code, what does the variable bacon contain?\n",
    "bacon = 22\n",
    "bacon + 1\n",
    "\n",
    "Ans:- 23\n"
   ]
  },
  {
   "cell_type": "raw",
   "id": "66f31f19",
   "metadata": {},
   "source": [
    "7. What should the values of the following two terms be?\n",
    "'spam' + 'spamspam'\n",
    "'spam' * 3\n",
    "\n",
    "Ans:- 'spamspamspam'\n",
    "      'spamspamspam'"
   ]
  },
  {
   "cell_type": "raw",
   "id": "bfd51620",
   "metadata": {},
   "source": [
    "8. Why is eggs a valid variable name while 100 is invalid?\n",
    "\n",
    "Ans:- eggs is following the variable naming Convention Where 100 is not following the Variable naming convention\n",
    "    According to Variable naming Convention Varible do not start with Numeric Value .\n",
    "    "
   ]
  },
  {
   "cell_type": "raw",
   "id": "da086660",
   "metadata": {},
   "source": [
    "9. What three functions can be used to get the integer, floating-point number, or string version of a value?\n",
    "\n",
    "Ans: For Getting Integer Verion Of value we can use Type casting Funtion :\n",
    "        int(Value)\n",
    "        \n",
    "     For Getting floating-point number Verion Of value we can use Type casting Funtion ::\n",
    "         float(Value)\n",
    "         \n",
    "     For Getting floating-point number Verion Of value we can use Type casting Funtion :\n",
    "         str(Value)"
   ]
  },
  {
   "cell_type": "raw",
   "id": "fb1485ee",
   "metadata": {},
   "source": [
    "10. Why does this expression cause an error? How can you fix it?\n",
    "'I have eaten ' + 99 + ' burritos.'\n",
    "\n",
    "Ans:- TypeError: can only concatenate str (not \"int\") to str\n",
    "\n",
    "       We can Fix it using single or double Quotes on integer Value or by typecasting of 99 \n",
    "       and we can convert 99 into string\n",
    "       \n",
    "       Right statement is :-\n",
    "       \n",
    "       'I have eaten ' + str(99) + ' burritos.'\n",
    "       \n",
    "       \n"
   ]
  }
 ],
 "metadata": {
  "kernelspec": {
   "display_name": "Python 3 (ipykernel)",
   "language": "python",
   "name": "python3"
  },
  "language_info": {
   "codemirror_mode": {
    "name": "ipython",
    "version": 3
   },
   "file_extension": ".py",
   "mimetype": "text/x-python",
   "name": "python",
   "nbconvert_exporter": "python",
   "pygments_lexer": "ipython3",
   "version": "3.8.8"
  }
 },
 "nbformat": 4,
 "nbformat_minor": 5
}
